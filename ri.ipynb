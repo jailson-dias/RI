{
 "cells": [
  {
   "cell_type": "code",
   "execution_count": 65,
   "metadata": {},
   "outputs": [],
   "source": [
    "import requests as rq\n",
    "from bs4 import BeautifulSoup as bs\n",
    "from bs4.element import Comment\n",
    "import codecs\n",
    "import collections\n",
    "import pandas as pd\n",
    "import numpy as np\n",
    "import scipy as scp\n",
    "import re"
   ]
  },
  {
   "cell_type": "code",
   "execution_count": null,
   "metadata": {},
   "outputs": [],
   "source": [
    "def getPage(url, name):\n",
    "    page = rq.get(url)\n",
    "    print(page)\n",
    "    f = codecs.open(name, 'w', 'latin1')\n",
    "    f.write(page.text)\n",
    "    f.close\n",
    "    # parsed_page = BeautifulSoup(page.text,\"html.parser\")\n",
    "\n",
    "# url = \"https://www.lojasrenner.com.br/p/jaqueta-bomber-ultra-leve/-/A-544333014-br.lr?sku=544590918\"\n",
    "# getPage(url, \"page1.html\")"
   ]
  },
  {
   "cell_type": "code",
   "execution_count": 2,
   "metadata": {},
   "outputs": [
    {
     "name": "stdout",
     "output_type": "stream",
     "text": [
      "<div class=\"oo-loader-default\"></div>\n"
     ]
    }
   ],
   "source": [
    "def beautiful(arquivo): \n",
    "    parsed_page = bs(open(arquivo),\"html.parser\")\n",
    "#     print(dir(parsed_page))\n",
    "#     print(parsed_page.prettify()[:1000])\n",
    "    print (parsed_page.div)\n",
    "    return parsed_page\n",
    "\n",
    "page = beautiful(\"page1.html\")"
   ]
  },
  {
   "cell_type": "code",
   "execution_count": 3,
   "metadata": {},
   "outputs": [
    {
     "data": {
      "text/plain": [
       "<title>Jaqueta Bomber Ultra Leve - Renner</title>"
      ]
     },
     "execution_count": 3,
     "metadata": {},
     "output_type": "execute_result"
    }
   ],
   "source": [
    "page.title"
   ]
  },
  {
   "cell_type": "code",
   "execution_count": 4,
   "metadata": {},
   "outputs": [],
   "source": [
    "def tag_visible(element):\n",
    "    if element.parent.name in ['style', 'script', 'head', 'title', 'meta', '[document]']:\n",
    "        return False\n",
    "    if isinstance(element, Comment):\n",
    "        return False\n",
    "    return True\n",
    "\n",
    "\n",
    "def text_from_html(body):\n",
    "#     soup = bs(body, 'html.parser')\n",
    "    texts = body.findAll(text=True)\n",
    "    visible_texts = filter(tag_visible, texts)  \n",
    "    return u\" \".join(t.strip() for t in visible_texts)\n",
    "\n",
    "pageText = text_from_html(page)"
   ]
  },
  {
   "cell_type": "code",
   "execution_count": 5,
   "metadata": {
    "scrolled": true
   },
   "outputs": [
    {
     "name": "stdout",
     "output_type": "stream",
     "text": [
      "[u'confira', u'BUSQUE', u'Frequentes', u'Marcas', u'CPF', u'Novidades', u'bomber', u'Praia', u'Klein', u'Acompanhe', u'pedido,', u'1.76', u'Blusas', u'Aceite', u'Blazers', u'Brindes', u'Western', u'Clique', u'Villanova,', u'Marca:', u'destes', u'N\\xe3o', u'Calvin', u'GG', u'P', u'Plus', u'seja,', u'fale', u'Just', u'product.titleProduct', u'Cadastrar', u'meses', u'10X*', u'seguran\\xe7a', u'reclama\\xe7\\xf5es,', u'Genuine', u'10x', u'Ofertas', u'situa\\xe7\\xe3o', u'**Para', u'Camisas', u'habilitado', u'G', u'sua', u'+', u'Blus\\xf5es', u'Veludo', u'Militar', u'*sobrenome', u'Cart\\xe3o.', u'Unissex', u'n\\xfamero)', u'SC', u'Gravatas', u'Marte', u'\\xd3culos', u'ME', u'instru\\xe7\\xf5es', u'Presentinhos', u'Listras', u'sujeita', u'digite', u'SOCIAL', u'Jardim', u'Cart\\xe3o', u'Style', u'Sand\\xe1lias', u'Pulseiras', u'Duomo', u'Frete', u'suggest.label', u'HOME', u'total', u'indispon\\xedvel.', u'reservados', u'&', u'Sapatilhas', u'Composi\\xe7\\xe3o:', u'Casio', u'todas', u'6', u'SUGEST\\xd5ES', u'49', u'VER', u'continuar', u'Cabelos', u'Avise-me', u'Compras', u'99', u'Camisetas', u'compras*', u'Ultra', u'TODOS', u'voc\\xea', u'a\\xe7\\xe3o', u'Adidas', u'realizadas', u'Botas', u'tamanho:', u'Veja', u'*Frete', u'poliamida', u'Tudo', u'Li', u'(DDD', u'*telefone', u'd\\xfavida', u'Medir', u'REGRAS', u'Carvalho', u'Bijuterias', u'MARCAS', u'1', u'mediante', u'Termo', u'Investidores', u'A', u'v\\xe1lido', u'informe', u'Parcele', u'Request', u'aos', u'*preenchimento', u'Renner', u'dispon\\xedvel', u'leve', u'a', u'tend\\xeancias', u'All', u'Cintura:', u'expressa.', u'Jeans', u'dentro', u'facebook', u'Ripping', u'Blue', u'Conosco', u'exclusivo', u'EGG', u'est\\xe1', u'CADASTRO', u'ciente', u'Casacos', u'Cintos', u'Pedraria', u'PAGAMENTO', u'*Data', u'2018', u'401', u'valor', u'RN', u'e/ou', u'RJ', u'Porto', u'Rasteiras', u'ENTREGA', u'Tamanho', u'maior', u'R$', u'necess\\xe1rio', u'Rel\\xf3gios', u'das', u'Chinelos', u'necess\\xe1ria', u'\\xcdntima', u'Investors', u'Interesse', u'Accessories', u'at\\xe9', u'ser\\xe3o', u'nele,', u'|', u'em', u'Bronzeadores', u'Bordados', u'redefini\\xe7\\xe3o', u'89', u'comprar', u'84', u'Carolina', u'Redes', u'Vermelhos', u'Mocassim', u'Jaquetas', u'caracteres)', u'Joe', u'Dior', u'CEP', u'Brinde', u'MEDIO', u'Curve', u'Pe\\xe7as', u'refinement.nameRefinement.split(\"', u'Metalizados', u'que', u'clique', u'compra', u'aceito', u'Uno', u'Via', u'ato', u'100%', u'alterar', u'*nome', u'SENHA', u'medidas', u'INVERNO', u'Banho', u'Sustentabilidade', u'Mochilas', u'Tratamentos', u'n\\xe3o', u'Seguran\\xe7a', u'Meu', u'Masculino', u'(Capitais', u'editar', u'Sapato', u'Bossa', u'Gr\\xe1tis', u'nascimento', u'Nossas', u'Modelo', u'Fits', u'SEM', u'Havaianas', u'CLICK', u'Leve', u'grava\\xe7\\xe3o', u'ajustar', u'Tecido:', u'para', u'ativa\\xe7\\xe3o', u'quando', u'At\\xe9', u'novidades', u'modalidade', u'Seu', u'14', u'18', u'enviado', u'Lanc\\xf4me', u'Tradicional', u'Sustent\\xe1veis', u'tabela', u'Mais', u'Sociais', u'DE', u'Produto', u'Field', u'Militarismo', u'desejado', u'cart\\xe3o', u'92.754.738/0001-62', u'-', u'necessidade', u'\")[0]', u'239,90', u'CNPJ:', u'receber', u'Conjuntos', u'*Senha', u'Feminino', u'Esportivo', u'M', u'acordo', u'Moda', u'promo\\xe7\\xf5es', u'G\\xeanero', u'Tabela', u'Vizzano', u'Total', u'cr\\xe9dito,', u'Institucional', u'minha', u'T\\xeanis', u'Beira', u'Bon\\xe9s', u'se', u'ser\\xe1', u'dos', u'Pague', u'Parcelamento', u'Bottero', u'Jaqueta', u'op\\xe7\\xf5es', u'Termos', u'qualquer', u'Politicas', u'Regi\\xf5es', u'alteradas.', u'ESTOQUE', u'Aplicativo', u'GR\\xc1TIS', u'Macac\\xf5es', u'FECHAR', u'do', u'OFF', u'Atendimento', u'\\xfaltimas', u'atende', u'de', u'da', u'jaquetas', u'j\\xe1', u'Bodies', u'Azzaro', u'ler).', u'Quadril:', u'Over', u'Infantil', u'compras', u'COLE\\xc7\\xc3O', u'partir', u'Rio', u'Meias', u'IDENTIFICA\\xc7\\xc3O', u'*CPF', u'seu', u'Jogger', u'FRETE', u'sem', u'Todos', u'RELACIONADOS', u'PP', u'Perfumes', u'Para', u'91410-400', u'Devolu\\xe7\\xf5es', u'LARANJA', u'Norte,', u'Busto:', u'estar\\xe1', u'frete,', u'Linha', u'Moleca', u'nav.search', u'Bermudas', u'elas.', u'v\\xeddeo', u'refinement.nameRefinement', u'REDE', u'Baixe', u'Medidas', u'atualizamos', u'Monte', u'aqui', u'mais', u'cookies.', u'Vestidos', u'Revlon', u'Quero', u'site.', u'cadastrado.', u'concluir', u'Altura:', u'Correntes', u'com', u'seguran\\xe7a,', u'como', u'Acima', u'por', u'60', u'cadastre-se', u'Lov', u'COM', u'Disney', u'CEP:', u'Get', u'Esqueci', u'50%', u'Robes', u'.', u'frete', u'Ashua', u'Carteiras', u'Maybelline', u'B\\xe1sicos', u'participantes.', u'PRAZO', u'}}', u'CALCULAR', u'Online:', u'169', u'Procon', u'\\xe9', u'QUERO', u'Menina', u'direito', u'Maquiagem', u'Bomber', u'F\\xe1cil', u'Menino', u'Size', u'Tire', u'site', u'E-mail', u'Sapatos', u'senha', u'AMARELO', u'A-Collection', u'Dolce', u'Cuecas', u'Rabanne', u'Sungas', u'BUSCA', u'medir', u'loja.', u'Uso.', u'termos', u'navegando', u'tenha', u'Sapat\\xeanis', u'entendemos', u'Trocas', u'escolha', u'modificar,', u'Caqui/Bege/Chino', u'no', u'ficar', u'Cal\\xe7ados', u'Bolsas', u'Casual', u'Polos', u'(Interior)', u'incluso', u'PARA', u'produto', u'verificar', u'Imprensa', u'*E-mail', u'momento', u'veja', u'Troca', u'Be', u'Lupo', u'loja', u'Paet\\xeas', u'9,90', u'4', u'Cortelle', u'Alongados', u'femininas.', u'endere\\xe7o', u'Receba', u'Conforto', u'\")[1]', u'OK', u'conosco', u'R$49,90', u'B.', u'23,99', u'CADASTRAR', u'veste', u'Kits', u'Localize', u'an\\xe1lise', u'Su\\xe9teres', u'google', u'Confira', u'pedido', u'clientes', u'Departamentos', u'aqui:', u'Detalhes', u'Herrera', u'Men', u'Geek', u'e-mail', u'uma', u'entrega.', u'Joaquim', u'foi', u'(m\\xednimo', u'gr\\xe1tis', u'O', u'Um', u'Trabalhe', u'Pijamas', u'Paco', u'30%', u'Alegre/RS', u's/juros', u'Esta', u'S.A.', u'Renner:', u'o', u'Lojas', u'ou', u'os', u'benef\\xedcios', u'Uso', u'integral', u'insira', u'Gabbana', u'Cal\\xe7as', u'Alchemia', u'Perfumaria', u'*', u'Collection', u'Av.', u'Boxer', u'Como', u'Mules', u'Compra', u'PRODUTOS', u'Compre', u'(clique', u'Steel', u'Tend\\xeancias', u'Sul', u'Acess\\xf3rios', u'Perguntas', u'Protetores', u'feminina', u'Fuzarka', u'aviso-pr\\xe9vio', u'cobrado', u'*confirmar', u'Preston', u'tamanho', u'Nordeste', u'Nossa', u'Rendas', u'obrigat\\xf3rios', u'Privacidade', u'Nosso', u'Sudeste', u'P\\xf3im', u'PRODUTO', u'navegador', u'60%', u'as', u'estiver', u'Cosm\\xe9ticos', u'Satinato', u'Sand\\xe1lia', u'COMPRAR', u'Ref:', u'Shorts', u'Guarda-Chuvas', u'na', u'Converse', u'Metropolitanas)', u'Pagamento', u'Givenchy', u'nas', u'5', u'sacola', u'blog.', u'nosso', u'Marfinno', u'Descubra', u'Entre', u'Sobre', u'direitos', u'{{', u'enviadas', u'modelo:', u'pagamento', u'Gr\\xe1tis*', u'Babados', u'vantagens,', u'N\\xe9cessaires', u'Alfaiataria', u'RECUPERAR', u'Personagens', u'reserva', u'e', u'Terno', u'nav.nameLanguage', u'Transpar\\xeancias', u'\\xe0', u'Ao', u'Saias', u'Tracta', u'As', u'Street', u'Maternity', u'Cart\\xf5es', u'Corpo']\n"
     ]
    }
   ],
   "source": [
    "pageList = pageText.split(\" \")\n",
    "pageList = filter(lambda x: len(x)>0, pageList)\n",
    "# values = set(x for x in pageList)\n",
    "# print values\n",
    "c = collections.Counter(pageList)\n",
    "print c.keys()"
   ]
  },
  {
   "cell_type": "code",
   "execution_count": 60,
   "metadata": {
    "scrolled": true
   },
   "outputs": [],
   "source": [
    "data_set = pd.read_csv(\"sites.csv\")"
   ]
  },
  {
   "cell_type": "code",
   "execution_count": 61,
   "metadata": {},
   "outputs": [
    {
     "data": {
      "text/html": [
       "<div>\n",
       "<style scoped>\n",
       "    .dataframe tbody tr th:only-of-type {\n",
       "        vertical-align: middle;\n",
       "    }\n",
       "\n",
       "    .dataframe tbody tr th {\n",
       "        vertical-align: top;\n",
       "    }\n",
       "\n",
       "    .dataframe thead th {\n",
       "        text-align: right;\n",
       "    }\n",
       "</style>\n",
       "<table border=\"1\" class=\"dataframe\">\n",
       "  <thead>\n",
       "    <tr style=\"text-align: right;\">\n",
       "      <th></th>\n",
       "      <th>url</th>\n",
       "      <th>anuncio</th>\n",
       "    </tr>\n",
       "  </thead>\n",
       "  <tbody>\n",
       "    <tr>\n",
       "      <th>count</th>\n",
       "      <td>224</td>\n",
       "      <td>224</td>\n",
       "    </tr>\n",
       "    <tr>\n",
       "      <th>unique</th>\n",
       "      <td>224</td>\n",
       "      <td>2</td>\n",
       "    </tr>\n",
       "    <tr>\n",
       "      <th>top</th>\n",
       "      <td>https://www.gregory.com.br/camisa-alongada-ver...</td>\n",
       "      <td>não</td>\n",
       "    </tr>\n",
       "    <tr>\n",
       "      <th>freq</th>\n",
       "      <td>1</td>\n",
       "      <td>115</td>\n",
       "    </tr>\n",
       "  </tbody>\n",
       "</table>\n",
       "</div>"
      ],
      "text/plain": [
       "                                                      url anuncio\n",
       "count                                                 224     224\n",
       "unique                                                224       2\n",
       "top     https://www.gregory.com.br/camisa-alongada-ver...     não\n",
       "freq                                                    1     115"
      ]
     },
     "execution_count": 61,
     "metadata": {},
     "output_type": "execute_result"
    }
   ],
   "source": [
    "data_set.describe()"
   ]
  },
  {
   "cell_type": "code",
   "execution_count": 62,
   "metadata": {
    "scrolled": true
   },
   "outputs": [],
   "source": [
    "# data_set = data_set.drop_duplicates(subset= ['url'],keep='first')\n",
    "# data_set"
   ]
  },
  {
   "cell_type": "code",
   "execution_count": 44,
   "metadata": {
    "scrolled": true
   },
   "outputs": [
    {
     "name": "stdout",
     "output_type": "stream",
     "text": [
      "https://www.riachuelo.com.br/sueter-malha-basica-12043524\n",
      "sim\n"
     ]
    }
   ],
   "source": [
    "# sites = data_set.iloc[:,:]\n",
    "print data_set.url[11]\n",
    "print data_set.anuncio[11]"
   ]
  },
  {
   "cell_type": "code",
   "execution_count": 64,
   "metadata": {},
   "outputs": [
    {
     "name": "stdout",
     "output_type": "stream",
     "text": [
      "0 https://www.riachuelo.com.br/ não\n",
      "1 https://www.riachuelo.com.br/masculino não\n",
      "2 https://www.riachuelo.com.br/campanhas/masculino/mar-2018/bermudas-surf não\n",
      "3 https://www.riachuelo.com.br/bermuda-listras-11828862 não\n",
      "4 https://www.riachuelo.com.br/bermuda-listra-11835044?src_click=item_page.recs_product_1&id=11835044 não\n",
      "5 https://www.riachuelo.com.br/kit-meia-3-pares-cano-invisivel-mash-11604506?src_click=item_page.recs_product_2&id=11604506 não\n",
      "6 https://www.riachuelo.com.br/beleza-e-perfume não\n",
      "7 https://www.riachuelo.com.br/campanhas/beleza/mar-2018/hugo-boss não\n",
      "8 https://www.riachuelo.com.br/perfume-masculino-hugo-boss-bottled-tonic-eau-de-toilette-12079332 não\n",
      "9 https://www.riachuelo.com.br/teens não\n",
      "10 https://www.riachuelo.com.br/campanhas/teens/mar-2018/combo-camisetas não\n",
      "11 https://www.riachuelo.com.br/sueter-malha-basica-12043524 sim\n",
      "12 https://www.riachuelo.com.br/blusa-tricot-listras-12043583 sim\n",
      "13 https://www.riachuelo.com.br/blusa-basica-manga-longa-12131067 sim\n",
      "14 https://www.riachuelo.com.br/blusa-olivia-basic-12130338 sim\n",
      "15 https://www.riachuelo.com.br/sueter-tricot-basico-color-12036390 sim\n",
      "16 https://www.riachuelo.com.br/cardig-listrado-11814500 sim\n",
      "17 https://www.riachuelo.com.br/blusa-basica-manga-longa-12130273 sim\n",
      "18 https://www.riachuelo.com.br/blusa-canelada-manga-longa-12233170 sim\n",
      "19 https://www.riachuelo.com.br/blusa-basica-manga-7-8-12130214 sim\n",
      "20 https://www.lojasrenner.com.br/ não\n",
      "21 https://www.lojasrenner.com.br/lista/lancamentos-geral/-/N-1gqg3qeZ18n23yiZoe8q5/p2 não\n",
      "22 https://www.lojasrenner.com.br/c/feminino/-/N-4zo6za/p1 não\n",
      "23 https://www.lojasrenner.com.br/c/masculino/-/N-1xeiyoy/p1 não\n",
      "24 https://www.lojasrenner.com.br/d/infantil/-/N-10xdweq não\n",
      "25 https://www.lojasrenner.com.br/d/perfumaria-e-cosmeticos/-/N-y9o0ku não\n",
      "26 https://www.lojasrenner.com.br/lista/desconto-todos-produto/-/N-1l95pyv/p1 não\n",
      "27 https://www.lojasrenner.com.br/p/bota-feminina-com-ziper-satinato/-/A-545509448-br.lr?sku=545509501 não\n",
      "28 https://www.lojasrenner.com.br/p/bota-feminina-em-couro-satinato/-/A-545676035-br.lr?sku=545676094 não\n",
      "29 https://www.lojasrenner.com.br/p/bota-feminina-em-couro-satinato/-/A-545677468-br.lr?sku=545677521 não\n",
      "30 https://www.lojasrenner.com.br/p/bota-feminina-em-cetim-satinato/-/A-545511804-br.lr?sku=545511855 não\n",
      "31 https://www.lojasrenner.com.br/p/bota-feminina-em-verniz-satinato/-/A-545673521-br.lr?sku=545673580 não\n",
      "32 https://www.lojasrenner.com.br/p/macacao-jeans-com-rasgos/-/A-545596684-br.lr?sku=545596692 sim\n",
      "33 https://www.lojasrenner.com.br/p/camisa-xadrez-com-bolsos-frontais/-/A-544525454-br.lr?sku=544658290 sim\n",
      "34 https://www.lojasrenner.com.br/p/saia-midi-em-material-sintetico/-/A-544333840-br.lr?sku=544647398 sim\n",
      "35 https://www.lojasrenner.com.br/p/casaco-polivelour-com-gola-alta/-/A-544353963-br.lr?sku=544419205 sim\n",
      "36 https://www.lojasrenner.com.br/p/blusa-infantil-com-estampa-tam-6-a-14/-/A-544952712-br.lr?sku=544952755 sim\n",
      "37 https://www.lojasrenner.com.br/p/camiseta-infantil-com-estampa-tam-5-a-14/-/A-545134121-br.lr?sku=545134130 sim\n",
      "38 https://www.lojasrenner.com.br/p/camiseta-infantil-listrada-tam-6-a-14/-/A-543661382-br.lr?sku=543667194 sim\n",
      "39 https://www.lojasrenner.com.br/p/camiseta-infantil-com-bolso-estampado-tam-6-a-14/-/A-542901647-br.lr?sku=542901698 sim\n",
      "40 https://www.lojasrenner.com.br/p/camiseta-infantil-estampada-tam-6-a-14/-/A-545163037-br.lr?sku=545163053 sim\n",
      "41 https://www.lojasrenner.com.br/p/camiseta-infantil-estampada-tam-5-a-14/-/A-545849611-br.lr?sku=545849629 sim\n",
      "42 https://www.damyller.com.br/ não\n",
      "43 https://www.damyller.com.br/moda-feminina?O=OrderByReleaseDateDESC não\n",
      "44 https://www.damyller.com.br/moda-masculina?O=OrderByReleaseDateDESC não\n",
      "45 http://blog.damyller.com.br/ não\n",
      "46 https://www.damyller.com.br/guia-jeans/feminino não\n",
      "47 https://www.damyller.com.br/moda-masculina?O=OrderByTopSaleDESC não\n",
      "48 https://www.damyller.com.br/moda-feminina/blusas?O=OrderByReleaseDateDESC não\n",
      "49 https://www.damyller.com.br/moda-feminina/jaqueta?O=OrderByReleaseDateDESC não\n",
      "50 https://www.damyller.com.br/look-descomplicado-gola-polo/p não\n",
      "51 https://www.damyller.com.br/look-moderno-camisa-floral/p não\n",
      "52 https://www.damyller.com.br/camiseta-masculina-7v0a131/p não\n",
      "53 https://www.damyller.com.br/camisa-alongada-feminina-7i0mi68/p sim\n",
      "54 https://www.damyller.com.br/blusa-listrada-feminina-7i0mi54/p sim\n",
      "55 https://www.damyller.com.br/jaqueta-jeans-alongada-feminina-7i0mi49/p sim\n",
      "56 https://www.damyller.com.br/camiseta-estampada-feminina-7v0mi57/p sim\n",
      "57 https://www.damyller.com.br/jaqueta-jeans-trucker-unissex-7i0cs08/p sim\n",
      "58 https://www.damyller.com.br/saia-estampada-feminina-7v0mi61/p sim\n",
      "59 https://www.damyller.com.br/jaqueta-jeans-patch-feminina-7i0mi37/p sim\n",
      "60 https://www.damyller.com.br/vestido-jeans-de-alcinha-7v0sm78/p sim\n",
      "61 https://www.damyller.com.br/calca-boyfriend-feminina-7n0mi73/p sim\n",
      "62 https://www.damyller.com.br/camiseta-suede-feminina-7v0mi65/p sim\n",
      "63 https://www.damyller.com.br/calca-jegging-feminina-7n0sx05/p sim\n",
      "64 http://mariadonata.com.br/ não\n",
      "65 http://mariadonata.com.br/index.php?route=product/category&path=171 não\n",
      "66 http://mariadonata.com.br/calcas-feminina não\n",
      "67 http://mariadonata.com.br/macacoes não\n",
      "68 http://mariadonata.com.br/saias não\n",
      "69 http://mariadonata.com.br/shorts não\n",
      "70 http://mariadonata.com.br/vestidos-curtos não\n",
      "71 http://mariadonata.com.br/vestidos-longos não\n",
      "72 http://mariadonata.com.br/index.php?route=common/home não\n",
      "73 http://mariadonata.com.br/index.php?route=checkout/cart não\n",
      "74 http://mariadonata.com.br/baby-look-maria-donata-estampada-em-silk sim\n",
      "75 http://mariadonata.com.br/vestido-curto-md-com-alcas-regulaveis sim\n",
      "76 http://mariadonata.com.br/vestido-tubinho-md-com-estampa-silk sim\n",
      "77 http://mariadonata.com.br/vestido-sereia-maria-donata sim\n",
      "78 http://mariadonata.com.br/vestido-mullet-maria-donata sim\n",
      "79 http://mariadonata.com.br/index.php?route=product/product&product_id=7 sim\n",
      "80 http://mariadonata.com.br/index.php?route=product/product&product_id=12 sim\n",
      "81 http://mariadonata.com.br/index.php?route=product/product&product_id=16 sim\n",
      "82 http://mariadonata.com.br/vestido-com-babado-maria-donata sim\n",
      "83 http://mariadonata.com.br/vestido-longo-com-fenda-maria-donata sim\n",
      "84 http://mariadonata.com.br/vestido-longo-md-com-fenda-e-decote sim\n",
      "85 https://www.marisa.com.br/ não\n",
      "86 https://pesquisa.marisa.com.br/hotsite/nova+colecao+outono+inverno+moda+feminina não\n",
      "87 https://www.marisa.com.br/roupas/feminino/c/blusas não\n",
      "88 https://www.marisa.com.br/roupas/feminino/blusas/c/blusa-basica não\n",
      "89 https://www.marisa.com.br/roupas/feminino/c/bermudas não\n",
      "90 https://www.marisa.com.br/roupas/feminino/c/calcas não\n",
      "91 https://www.marisa.com.br/roupas/feminino/c/camisas não\n",
      "92 https://www.marisa.com.br/roupas/feminino/c/casacos-jaquetas não\n",
      "93 https://www.marisa.com.br/roupas/feminino/c/malhas-sueteres não\n",
      "94 https://www.marisa.com.br/roupas/feminino/casacos-jaquetas/c/moletom-casacos-jaquetas não\n",
      "95 https://www.marisa.com.br/c/cartao-presente não\n",
      "96 https://www.marisa.com.br/search/?sort=newOnStore&q=social+feminino%3AtopDiscount# não\n",
      "97 https://www.marisa.com.br/saia-feminina-god%c3%aa-marisa-rosa/p/10031296595 sim\n",
      "98 https://www.marisa.com.br/cal%c3%a7a-feminina-jeans-stretch-skinny-marisa-preto/p/10032096316 sim\n",
      "99 https://www.marisa.com.br/blusa-feminina-estampa-estrela-babado-manga-curta-marisa--preto/p/10032856491 sim\n",
      "100 https://www.marisa.com.br/blusa-feminina-moletinho-estampa-patins-marisa-preto/p/10030714281 sim\n",
      "101 https://www.marisa.com.br/saia-feminina-god%c3%aa-marisa-preto/p/10031296519 sim\n",
      "102 https://www.marisa.com.br/cal%c3%a7a-feminina-legging-estampa-floral-marisa-azul/p/10031294201 sim\n",
      "103 https://www.marisa.com.br/blusa-feminina-estampa-mickey-manga-curta-disney-cinza/p/10031840781 sim\n",
      "104 https://www.marisa.com.br/vestido-feminino-tachas-manga-curta-marisa-preto/p/10032029192 sim\n",
      "105 https://www.marisa.com.br/cal%c3%a7a-feminina-flare-fitness-marisa-cinza/p/10031792608 sim\n",
      "106 https://www.marisa.com.br/blusa-feminina-manga-curta-fitness-active-marisa-branco/p/10031794947 sim\n",
      "107 https://www.marisa.com.br/cal%c3%a7a-feminina-cors%c3%a1rio-fitness-marisa--preto/p/10031790864 sim\n",
      "108 http://www.cea.com.br/ não\n",
      "109 http://www.cea.com.br/moda-feminina não\n",
      "110 http://www.cea.com.br/moda-masculina não\n",
      "111 http://www.cea.com.br/nova-colecao-outono-inverno/moda-masculina?utmi_campaign=_ID-002023_CAMP_MAS_HOME-MAS_S001_DES_20180326_COLECAO-OUTONO-INVERNO-TEXTO_GENERICO não\n",
      "112 http://www.cea.com.br/jaqueta-masculina-jeans-manga-longa-azul-escuro-9047826-azul_escuro/p não\n",
      "113 http://www.cea.com.br/moda-infantil não\n",
      "114 http://www.cea.com.br/beleza não\n",
      "115 http://www.cea.com.br/celulares-e-tablets não\n",
      "116 http://www.cea.com.br/novidades não\n",
      "117 http://www.cea.com.br/moda/infantil/dinossauros-e-unicornios?utmi_campaign=_ID-001987_CAMP_INF_HOME-INF_S003_DES_20180320_DINOSSAUROS-E-UNICORNIOS_GENERICO não\n",
      "118 http://www.cea.com.br/beleza/cosmeticos-masculinos/produtos-para-barba?O=OrderByReleaseDateDESC não\n",
      "119 http://www.cea.com.br/poncho-em-fleece-cinza-claro-8875774-cinza_claro/p sim\n",
      "120 http://www.cea.com.br/pijama-feminino--panda-hug--com-estampa-manga-curta-decote-redondo-cinza-mescla-claro-9007206-cinza_mescla_claro/p sim\n",
      "121 http://www.cea.com.br/pijama-feminino--helo-monday--panda-regata-preto-9038832-preto/p sim\n",
      "122 http://www.cea.com.br/camisola-feminina--love--estampada-de-panda-manga-curta-rosa-claro-9119062-rosa_claro/p sim\n",
      "123 http://www.cea.com.br/pijama-feminino--love--em-plush-manga-longa-decote-redondo-cinza-mescla-escuro-8875822-cinza_mescla_escuro/p sim\n",
      "124 http://www.cea.com.br/pijama-feminino-em-fleece-estampado-floral-manga-longa-branco-8875834-branco/p sim\n",
      "125 http://www.cea.com.br/pijama-em-fleece-estampado-poa-branco-8875810-branco/p sim\n",
      "126 http://www.cea.com.br/short-doll-feminino-estampado-de-poa-de-alca-azul-marinho-8654698-azul_marinho/p sim\n",
      "127 http://www.cea.com.br/short-doll-feminino-estampado-floral-de-alca-azul-marinho-8654704-azul_marinho/p sim\n",
      "128 http://www.cea.com.br/camisola-mickey-em-algodao---sustentavel-preto-8954419-preto/p sim\n",
      "129 http://www.cea.com.br/short-doll-feminino-xadrez-com-renda-de-alca-cinza-mescla-9007169-cinza_mescla/p sim\n",
      "130 https://www.gregory.com.br/ não\n",
      "131 https://www.gregory.com.br/novidades?O=OrderByReleaseDateDESC não\n",
      "132 https://www.gregory.com.br/roupas-femininas?O=OrderByReleaseDateDESC não\n",
      "133 https://www.gregory.com.br/acessorios?O=OrderByReleaseDateDESC não\n",
      "134 https://www.gregory.com.br/roupas-femininas/bermudas-e-shorts?O=OrderByReleaseDateDESC não\n",
      "135 https://www.gregory.com.br/roupas-femininas/blazer?O=OrderByReleaseDateDESC não\n",
      "136 https://www.gregory.com.br/roupas-femininas/blusas?O=OrderByReleaseDateDESC não\n",
      "137 https://www.gregory.com.br/roupas-femininas/casacos-e-jaquetas?O=OrderByReleaseDateDESC não\n",
      "138 https://www.gregory.com.br/acessorios/colares?O=OrderByReleaseDateDESC não\n",
      "139 https://www.gregory.com.br/acessorios/diversos?O=OrderByReleaseDateDESC não\n",
      "140 https://www.gregory.com.br/calca-boot-cut-com-2-botoes-marrom-02-78-0361-043/p sim\n",
      "141 https://www.gregory.com.br/calca-boot-cut-com-2-botoes-kaki-02-78-0361-007/p sim\n",
      "142 https://www.gregory.com.br/calca-croped-jeans-barra-virada-azul-jeans-02-22-0015-264/p sim\n",
      "143 https://www.gregory.com.br/blusa-trico-tranca-preto-04-63-0044-002/p sim\n",
      "144 https://www.gregory.com.br/casaco-7-8-com-bolsos-preto-09-05-0055-002/p sim\n",
      "145 https://www.gregory.com.br/casaco-7-8-com-bolsos-bege-09-05-0055-058/p sim\n",
      "146 https://www.gregory.com.br/jaqueta-padding-de-nylon-preto-06-11-0021-002/p sim\n",
      "147 https://www.gregory.com.br/blusa-listrada-marinho-04-50-0168-041/p sim\n",
      "148 https://www.gregory.com.br/camisa-alongada-verde-05-11-0307-024/p sim\n",
      "149 https://www.gregory.com.br/blusa-manga-curta-animal-print-verde-04-06-0829-024/p sim\n",
      "150 https://www.gregory.com.br/blusa-suede-decote-v-camel-04-19-0242-141/p sim\n",
      "151 https://www.zattini.com.br/ não\n",
      "152 https://www.zattini.com.br/feminino/home?mi=ztt_mntop_FEM-feminino&psn=Menu_Top&fc=menu não\n",
      "153 https://www.zattini.com.br/masculino/home?mi=ztt_mntop_MASC-masculino&psn=Menu_Top&fc=menu não\n",
      "154 https://www.zattini.com.br/infantil/home?mi=ztt_mntop_INF-infantil&psn=Menu_Top&fc=menu não\n",
      "155 https://www.zattini.com.br/esporte?mi=ztt_mntop_ESP-esporte&psn=Menu_Top&fc=menu não\n",
      "156 https://www.zattini.com.br/beleza/home?mi=ztt_mntop_BLZ-beleza&psn=Menu_Top&fc=menu não\n",
      "157 https://www.zattini.com.br/lst/departamento-casa?mi=ztt_mntop_CS-casa&psn=Menu_Top&fc=menu não\n",
      "158 https://www.zattini.com.br/lst/top-marcas?mi=ztt_mntop_MC-marcas&psn=Menu_Top&fc=menu não\n",
      "159 https://www.zattini.com.br/lst/ofertas?q=&_desconto=30-90&mi=ztt_mntop_OFE-ofertas&psn=Menu_Top&fc=menu não\n",
      "160 https://www.zattini.com.br/calcados/mocassim/masculino?mi=ztt_mntop_MASC-CAL-mocassim&psn=Menu_Top&fc=menu não\n",
      "161 https://www.zattini.com.br/calcados/sapato-casual/masculino?mi=ztt_mntop_MASC-CAL-sapatocasual&psn=Menu_Top&fc=menu não\n",
      "162 https://www.zattini.com.br/calcados/sapato-social/masculino?mi=ztt_mntop_MASC-CAL-sapatosocial&psn=Menu_Top&fc=menu não\n",
      "163 https://www.zattini.com.br/roupas/camisas-polo/masculino?mi=ztt_mntop_MASC-ROU-camisaspolo&psn=Menu_Top&fc=menu não\n",
      "164 https://www.zattini.com.br/blusa-chaire-manga-longa-hot-fix-feminina-preto-FOX-0044-006 sim\n",
      "165 https://www.zattini.com.br/blusa-jin-com-renda-feminina-branco-GWY-0005-014 sim\n",
      "166 https://www.zattini.com.br/blusa-forwhy-ilhos-decote-feminina-branco-ETT-0099-014 sim\n",
      "167 https://www.zattini.com.br/blusa-jin-lisa-com-renda-feminina-bege-GWY-0008-004 sim\n",
      "168 https://www.zattini.com.br/blusa-mixxon-estampada-babados-feminina-branco-ETS-0065-014 sim\n",
      "169 https://www.zattini.com.br/blusa-heli-florida-feminina-amarelo-ESK-0066-030 sim\n",
      "170 https://www.zattini.com.br/jaqueta-queens-mix-de-tecidos-feminina-preto-G33-0551-006 sim\n",
      "171 https://www.zattini.com.br/jaqueta-queens-recortes-feminina-preto-G33-0549-006 sim\n",
      "172 https://www.zattini.com.br/jaqueta-queens-recortes-feminina-branco-G33-0549-014 sim\n",
      "173 https://www.zattini.com.br/blazer-facinelli-guipir-na-cintura-feminino-areia-H37-0516-072 sim\n",
      "174 https://www.zattini.com.br/jaqueta-queens-textura-recortes-feminina-branco-G33-0535-014 sim\n",
      "175 https://www.zattini.com.br/jaqueta-queens-mix-ziper-feminina-preto-G33-0548-006 sim\n",
      "176 https://lista.mercadolivre.com.br/roupas-femininas#stayOnWeb não\n",
      "177 https://ofertas.mercadolivre.com.br/ofertas-da-semana não\n",
      "178 https://www.mercadolivre.com.br/lojas-oficiais não\n",
      "179 https://loja.mercadolivre.com.br/barba-de-respeito não\n",
      "180 https://loja.mercadolivre.com.br/pichau não\n",
      "181 https://loja.mercadolivre.com.br/acer-brasil não\n",
      "182 https://loja.mercadolivre.com.br/von-dutch não\n",
      "183 https://loja.mercadolivre.com.br/samsung-notebooks não\n",
      "184 https://produto.mercadolivre.com.br/MLB-983166814-notebook-samsung-essentials-e21-np300e5m-kfabr-intel-4gb-500-_JM não\n",
      "185 https://www.mercadolivre.com.br/moda/ não\n",
      "186 https://www.mercadolivre.com.br/moda/homen/ não\n",
      "187 https://lista.mercadolivre.com.br/calcados-roupas-bolsas/masculino/_Deal_moda-blusas não\n",
      "188 https://roupas.mercadolivre.com.br/calcas/masculino/ não\n",
      "189 https://produto.mercadolivre.com.br/MLB-729611385-body-feminino-3-em-1-multiuso-drappeado-alca-grossa-2018-_JM sim\n",
      "190 https://produto.mercadolivre.com.br/MLB-753878962-top-blusa-cropped-tricot-tric-alcinha-lancamento-vero-2018-_JM sim\n",
      "191 https://produto.mercadolivre.com.br/MLB-740254610-blusas-e-roupas-femininas-peplum-em-bandagem-blusa-peplum-_JM sim\n",
      "192 https://produto.mercadolivre.com.br/MLB-762971431-cropped-top-manga-curta-panicat-blusas-femininas-promoco-_JM sim\n",
      "193 https://produto.mercadolivre.com.br/MLB-680917390-blusa-cropped-renda-manga-flare-top-cropped-boca-de-sino-_JM sim\n",
      "194 https://produto.mercadolivre.com.br/MLB-687154365-body-feminino-decote-profundo-cavado-regata-moda-feminina-_JM sim\n",
      "195 https://produto.mercadolivre.com.br/MLB-804101142-body-rendado-tule-manga-longa-moda-juju-panicat-blogueiras-_JM sim\n",
      "196 https://produto.mercadolivre.com.br/MLB-694361961-vestido-longo-em-duas-cores-corte-acinturado-mila-rio-vl-143-_JM sim\n",
      "197 https://produto.mercadolivre.com.br/MLB-686182462-vestido-longo-com-drapeado-pala-cintura-gola-careca-vl1007-_JM sim\n",
      "198 https://produto.mercadolivre.com.br/MLB-784808737-vestido-chemise-em-sarja-pink-principessa-maria-cecilia-_JM sim\n",
      "199 https://produto.mercadolivre.com.br/MLB-872420239-blusa-regata-pedraria-feminina-em-viscolycra-cavada-roupa-_JM sim\n",
      "200 https://produto.mercadolivre.com.br/MLB-866455291-maxi-colete-jeans-comprido-roupas-femininas-vero-_JM sim\n",
      "201 https://www.dafiti.com.br/roupas-femininas/ não\n",
      "202 https://www.dafiti.com.br/feminino/ não\n",
      "203 https://www.dafiti.com.br/masculino/ não\n",
      "204 https://www.dafiti.com.br/infantil/ não\n",
      "205 https://www.dafiti.com.br/casa/ não\n",
      "206 https://www.dafiti.com.br/esporte/ não\n",
      "207 https://www.dafiti.com.br/marcas/ não\n",
      "208 https://dafitimag.dafiti.com.br/ não\n",
      "209 https://www.dafiti.com.br/roupas-masculinas/bermudas/ não\n",
      "210 https://www.dafiti.com.br/roupas-masculinas/calcas-jeans/ não\n",
      "211 https://www.dafiti.com.br/Calca-Jeans-Calvin-Klein-Jeans-Super-Skinny-Preta-3163064.html não\n",
      "212 https://www.dafiti.com.br/Calca-Jeans-Calvin-Klein-Jeans-Skinny-Estonada-Azul-3281801.html não\n",
      "213 https://www.dafiti.com.br/Vestido-Manola-Longo-Regata-Preto-2945667.html sim\n",
      "214 https://www.dafiti.com.br/Vestido-Das-Avessas-Curto-Estampado-Verde%2FRosa-3445381.html sim\n",
      "215 https://www.dafiti.com.br/Vestido-FiveBlu-Curto-Choker-Preto-3142370.html sim\n",
      "216 https://www.dafiti.com.br/Calca-Cintura-Alta-Miss-Blessed-Flare-Bandagem-Preto-2975409.html sim\n",
      "217 https://www.dafiti.com.br/Camisa-Holin-Stone-Estampada-Bege%2FPreta-3176550.html sim\n",
      "218 https://www.dafiti.com.br/Camisa-Holin-Stone-Estampada-Bege%2FVermelha-3176540.html sim\n",
      "219 https://www.dafiti.com.br/Cinta-Modeladora-Emborachada-Tropikanas-Preta-2970846.html sim\n",
      "220 https://www.dafiti.com.br/Moletom-Flanelado-Fechado-FiveBlu-Careza-Preto-3561568.html sim\n",
      "221 https://www.dafiti.com.br/Vestido-Acrobat-Curto-Floral-Preto-3240486.html sim\n",
      "222 https://www.dafiti.com.br/Vestido-Manola-Neoprene-Preto-2133283.html sim\n",
      "223 https://www.dafiti.com.br/Vestido-Das-Avessas-Curto-Estampado-Azul-3445382.html sim\n"
     ]
    }
   ],
   "source": [
    "for i, site in enumerate(data_set.url):\n",
    "    \n",
    "    print i, site, data_set.anuncio[i]\n",
    "# data_set.iloc[:,0][23]"
   ]
  },
  {
   "cell_type": "code",
   "execution_count": 75,
   "metadata": {
    "scrolled": true
   },
   "outputs": [
    {
     "name": "stdout",
     "output_type": "stream",
     "text": [
      "<_sre.SRE_Match object at 0x10832bf08>\n"
     ]
    }
   ],
   "source": [
    "padrao = \"((www\\.)?[a-zA-Z0-9]+\\.[a-zA-Z0-9]+(\\.[a-zA-Z0-9]+)*)\"\n",
    "teste = \"https://www.riachuelo.com.br/blusa-basica-manga-longa-12131067\"\n",
    "print re.search(padrao, teste)"
   ]
  },
  {
   "cell_type": "code",
   "execution_count": null,
   "metadata": {},
   "outputs": [],
   "source": []
  }
 ],
 "metadata": {
  "kernelspec": {
   "display_name": "Python 2",
   "language": "python",
   "name": "python2"
  },
  "language_info": {
   "codemirror_mode": {
    "name": "ipython",
    "version": 2
   },
   "file_extension": ".py",
   "mimetype": "text/x-python",
   "name": "python",
   "nbconvert_exporter": "python",
   "pygments_lexer": "ipython2",
   "version": "2.7.10"
  }
 },
 "nbformat": 4,
 "nbformat_minor": 2
}
