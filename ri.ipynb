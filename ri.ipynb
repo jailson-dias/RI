{
 "cells": [
  {
   "cell_type": "code",
   "execution_count": 92,
   "metadata": {},
   "outputs": [],
   "source": [
    "import requests as rq\n",
    "from bs4 import BeautifulSoup as bs\n",
    "from bs4.element import Comment\n",
    "import codecs\n",
    "import collections\n",
    "import pandas as pd\n",
    "import numpy as np\n",
    "import scipy as scp\n",
    "import re\n",
    "import os"
   ]
  },
  {
   "cell_type": "code",
   "execution_count": 93,
   "metadata": {},
   "outputs": [],
   "source": [
    "def getPage(url, name, codec):\n",
    "    \n",
    "    if not os.path.isfile(name):\n",
    "        page = rq.get(url)\n",
    "        f = codecs.open(name, 'w', codec)\n",
    "        f.write(page.text)\n",
    "        f.close\n",
    "        # parsed_page = BeautifulSoup(page.text,\"html.parser\")\n",
    "\n",
    "# url = \"https://www.lojasrenner.com.br/p/jaqueta-bomber-ultra-leve/-/A-544333014-br.lr?sku=544590918\"\n",
    "# getPage(url, \"page1.html\")"
   ]
  },
  {
   "cell_type": "code",
   "execution_count": 2,
   "metadata": {},
   "outputs": [
    {
     "name": "stdout",
     "output_type": "stream",
     "text": [
      "<div class=\"oo-loader-default\"></div>\n"
     ]
    }
   ],
   "source": [
    "def beautiful(arquivo): \n",
    "    parsed_page = bs(open(arquivo),\"html.parser\")\n",
    "#     print(dir(parsed_page))\n",
    "#     print(parsed_page.prettify()[:1000])\n",
    "    print (parsed_page.div)\n",
    "    return parsed_page\n",
    "\n",
    "page = beautiful(\"page1.html\")"
   ]
  },
  {
   "cell_type": "code",
   "execution_count": 3,
   "metadata": {},
   "outputs": [
    {
     "data": {
      "text/plain": [
       "<title>Jaqueta Bomber Ultra Leve - Renner</title>"
      ]
     },
     "execution_count": 3,
     "metadata": {},
     "output_type": "execute_result"
    }
   ],
   "source": [
    "page.title"
   ]
  },
  {
   "cell_type": "code",
   "execution_count": 4,
   "metadata": {},
   "outputs": [],
   "source": [
    "def tag_visible(element):\n",
    "    if element.parent.name in ['style', 'script', 'head', 'title', 'meta', '[document]']:\n",
    "        return False\n",
    "    if isinstance(element, Comment):\n",
    "        return False\n",
    "    return True\n",
    "\n",
    "\n",
    "def text_from_html(body):\n",
    "#     soup = bs(body, 'html.parser')\n",
    "    texts = body.findAll(text=True)\n",
    "    visible_texts = filter(tag_visible, texts)  \n",
    "    return u\" \".join(t.strip() for t in visible_texts)\n",
    "\n",
    "pageText = text_from_html(page)"
   ]
  },
  {
   "cell_type": "code",
   "execution_count": 5,
   "metadata": {
    "scrolled": true
   },
   "outputs": [
    {
     "name": "stdout",
     "output_type": "stream",
     "text": [
      "[u'confira', u'BUSQUE', u'Frequentes', u'Marcas', u'CPF', u'Novidades', u'bomber', u'Praia', u'Klein', u'Acompanhe', u'pedido,', u'1.76', u'Blusas', u'Aceite', u'Blazers', u'Brindes', u'Western', u'Clique', u'Villanova,', u'Marca:', u'destes', u'N\\xe3o', u'Calvin', u'GG', u'P', u'Plus', u'seja,', u'fale', u'Just', u'product.titleProduct', u'Cadastrar', u'meses', u'10X*', u'seguran\\xe7a', u'reclama\\xe7\\xf5es,', u'Genuine', u'10x', u'Ofertas', u'situa\\xe7\\xe3o', u'**Para', u'Camisas', u'habilitado', u'G', u'sua', u'+', u'Blus\\xf5es', u'Veludo', u'Militar', u'*sobrenome', u'Cart\\xe3o.', u'Unissex', u'n\\xfamero)', u'SC', u'Gravatas', u'Marte', u'\\xd3culos', u'ME', u'instru\\xe7\\xf5es', u'Presentinhos', u'Listras', u'sujeita', u'digite', u'SOCIAL', u'Jardim', u'Cart\\xe3o', u'Style', u'Sand\\xe1lias', u'Pulseiras', u'Duomo', u'Frete', u'suggest.label', u'HOME', u'total', u'indispon\\xedvel.', u'reservados', u'&', u'Sapatilhas', u'Composi\\xe7\\xe3o:', u'Casio', u'todas', u'6', u'SUGEST\\xd5ES', u'49', u'VER', u'continuar', u'Cabelos', u'Avise-me', u'Compras', u'99', u'Camisetas', u'compras*', u'Ultra', u'TODOS', u'voc\\xea', u'a\\xe7\\xe3o', u'Adidas', u'realizadas', u'Botas', u'tamanho:', u'Veja', u'*Frete', u'poliamida', u'Tudo', u'Li', u'(DDD', u'*telefone', u'd\\xfavida', u'Medir', u'REGRAS', u'Carvalho', u'Bijuterias', u'MARCAS', u'1', u'mediante', u'Termo', u'Investidores', u'A', u'v\\xe1lido', u'informe', u'Parcele', u'Request', u'aos', u'*preenchimento', u'Renner', u'dispon\\xedvel', u'leve', u'a', u'tend\\xeancias', u'All', u'Cintura:', u'expressa.', u'Jeans', u'dentro', u'facebook', u'Ripping', u'Blue', u'Conosco', u'exclusivo', u'EGG', u'est\\xe1', u'CADASTRO', u'ciente', u'Casacos', u'Cintos', u'Pedraria', u'PAGAMENTO', u'*Data', u'2018', u'401', u'valor', u'RN', u'e/ou', u'RJ', u'Porto', u'Rasteiras', u'ENTREGA', u'Tamanho', u'maior', u'R$', u'necess\\xe1rio', u'Rel\\xf3gios', u'das', u'Chinelos', u'necess\\xe1ria', u'\\xcdntima', u'Investors', u'Interesse', u'Accessories', u'at\\xe9', u'ser\\xe3o', u'nele,', u'|', u'em', u'Bronzeadores', u'Bordados', u'redefini\\xe7\\xe3o', u'89', u'comprar', u'84', u'Carolina', u'Redes', u'Vermelhos', u'Mocassim', u'Jaquetas', u'caracteres)', u'Joe', u'Dior', u'CEP', u'Brinde', u'MEDIO', u'Curve', u'Pe\\xe7as', u'refinement.nameRefinement.split(\"', u'Metalizados', u'que', u'clique', u'compra', u'aceito', u'Uno', u'Via', u'ato', u'100%', u'alterar', u'*nome', u'SENHA', u'medidas', u'INVERNO', u'Banho', u'Sustentabilidade', u'Mochilas', u'Tratamentos', u'n\\xe3o', u'Seguran\\xe7a', u'Meu', u'Masculino', u'(Capitais', u'editar', u'Sapato', u'Bossa', u'Gr\\xe1tis', u'nascimento', u'Nossas', u'Modelo', u'Fits', u'SEM', u'Havaianas', u'CLICK', u'Leve', u'grava\\xe7\\xe3o', u'ajustar', u'Tecido:', u'para', u'ativa\\xe7\\xe3o', u'quando', u'At\\xe9', u'novidades', u'modalidade', u'Seu', u'14', u'18', u'enviado', u'Lanc\\xf4me', u'Tradicional', u'Sustent\\xe1veis', u'tabela', u'Mais', u'Sociais', u'DE', u'Produto', u'Field', u'Militarismo', u'desejado', u'cart\\xe3o', u'92.754.738/0001-62', u'-', u'necessidade', u'\")[0]', u'239,90', u'CNPJ:', u'receber', u'Conjuntos', u'*Senha', u'Feminino', u'Esportivo', u'M', u'acordo', u'Moda', u'promo\\xe7\\xf5es', u'G\\xeanero', u'Tabela', u'Vizzano', u'Total', u'cr\\xe9dito,', u'Institucional', u'minha', u'T\\xeanis', u'Beira', u'Bon\\xe9s', u'se', u'ser\\xe1', u'dos', u'Pague', u'Parcelamento', u'Bottero', u'Jaqueta', u'op\\xe7\\xf5es', u'Termos', u'qualquer', u'Politicas', u'Regi\\xf5es', u'alteradas.', u'ESTOQUE', u'Aplicativo', u'GR\\xc1TIS', u'Macac\\xf5es', u'FECHAR', u'do', u'OFF', u'Atendimento', u'\\xfaltimas', u'atende', u'de', u'da', u'jaquetas', u'j\\xe1', u'Bodies', u'Azzaro', u'ler).', u'Quadril:', u'Over', u'Infantil', u'compras', u'COLE\\xc7\\xc3O', u'partir', u'Rio', u'Meias', u'IDENTIFICA\\xc7\\xc3O', u'*CPF', u'seu', u'Jogger', u'FRETE', u'sem', u'Todos', u'RELACIONADOS', u'PP', u'Perfumes', u'Para', u'91410-400', u'Devolu\\xe7\\xf5es', u'LARANJA', u'Norte,', u'Busto:', u'estar\\xe1', u'frete,', u'Linha', u'Moleca', u'nav.search', u'Bermudas', u'elas.', u'v\\xeddeo', u'refinement.nameRefinement', u'REDE', u'Baixe', u'Medidas', u'atualizamos', u'Monte', u'aqui', u'mais', u'cookies.', u'Vestidos', u'Revlon', u'Quero', u'site.', u'cadastrado.', u'concluir', u'Altura:', u'Correntes', u'com', u'seguran\\xe7a,', u'como', u'Acima', u'por', u'60', u'cadastre-se', u'Lov', u'COM', u'Disney', u'CEP:', u'Get', u'Esqueci', u'50%', u'Robes', u'.', u'frete', u'Ashua', u'Carteiras', u'Maybelline', u'B\\xe1sicos', u'participantes.', u'PRAZO', u'}}', u'CALCULAR', u'Online:', u'169', u'Procon', u'\\xe9', u'QUERO', u'Menina', u'direito', u'Maquiagem', u'Bomber', u'F\\xe1cil', u'Menino', u'Size', u'Tire', u'site', u'E-mail', u'Sapatos', u'senha', u'AMARELO', u'A-Collection', u'Dolce', u'Cuecas', u'Rabanne', u'Sungas', u'BUSCA', u'medir', u'loja.', u'Uso.', u'termos', u'navegando', u'tenha', u'Sapat\\xeanis', u'entendemos', u'Trocas', u'escolha', u'modificar,', u'Caqui/Bege/Chino', u'no', u'ficar', u'Cal\\xe7ados', u'Bolsas', u'Casual', u'Polos', u'(Interior)', u'incluso', u'PARA', u'produto', u'verificar', u'Imprensa', u'*E-mail', u'momento', u'veja', u'Troca', u'Be', u'Lupo', u'loja', u'Paet\\xeas', u'9,90', u'4', u'Cortelle', u'Alongados', u'femininas.', u'endere\\xe7o', u'Receba', u'Conforto', u'\")[1]', u'OK', u'conosco', u'R$49,90', u'B.', u'23,99', u'CADASTRAR', u'veste', u'Kits', u'Localize', u'an\\xe1lise', u'Su\\xe9teres', u'google', u'Confira', u'pedido', u'clientes', u'Departamentos', u'aqui:', u'Detalhes', u'Herrera', u'Men', u'Geek', u'e-mail', u'uma', u'entrega.', u'Joaquim', u'foi', u'(m\\xednimo', u'gr\\xe1tis', u'O', u'Um', u'Trabalhe', u'Pijamas', u'Paco', u'30%', u'Alegre/RS', u's/juros', u'Esta', u'S.A.', u'Renner:', u'o', u'Lojas', u'ou', u'os', u'benef\\xedcios', u'Uso', u'integral', u'insira', u'Gabbana', u'Cal\\xe7as', u'Alchemia', u'Perfumaria', u'*', u'Collection', u'Av.', u'Boxer', u'Como', u'Mules', u'Compra', u'PRODUTOS', u'Compre', u'(clique', u'Steel', u'Tend\\xeancias', u'Sul', u'Acess\\xf3rios', u'Perguntas', u'Protetores', u'feminina', u'Fuzarka', u'aviso-pr\\xe9vio', u'cobrado', u'*confirmar', u'Preston', u'tamanho', u'Nordeste', u'Nossa', u'Rendas', u'obrigat\\xf3rios', u'Privacidade', u'Nosso', u'Sudeste', u'P\\xf3im', u'PRODUTO', u'navegador', u'60%', u'as', u'estiver', u'Cosm\\xe9ticos', u'Satinato', u'Sand\\xe1lia', u'COMPRAR', u'Ref:', u'Shorts', u'Guarda-Chuvas', u'na', u'Converse', u'Metropolitanas)', u'Pagamento', u'Givenchy', u'nas', u'5', u'sacola', u'blog.', u'nosso', u'Marfinno', u'Descubra', u'Entre', u'Sobre', u'direitos', u'{{', u'enviadas', u'modelo:', u'pagamento', u'Gr\\xe1tis*', u'Babados', u'vantagens,', u'N\\xe9cessaires', u'Alfaiataria', u'RECUPERAR', u'Personagens', u'reserva', u'e', u'Terno', u'nav.nameLanguage', u'Transpar\\xeancias', u'\\xe0', u'Ao', u'Saias', u'Tracta', u'As', u'Street', u'Maternity', u'Cart\\xf5es', u'Corpo']\n"
     ]
    }
   ],
   "source": [
    "pageList = pageText.split(\" \")\n",
    "pageList = filter(lambda x: len(x)>0, pageList)\n",
    "# values = set(x for x in pageList)\n",
    "# print values\n",
    "c = collections.Counter(pageList)\n",
    "print c.keys()"
   ]
  },
  {
   "cell_type": "code",
   "execution_count": 60,
   "metadata": {
    "scrolled": true
   },
   "outputs": [],
   "source": [
    "data_set = pd.read_csv(\"sites.csv\")"
   ]
  },
  {
   "cell_type": "code",
   "execution_count": 61,
   "metadata": {},
   "outputs": [
    {
     "data": {
      "text/html": [
       "<div>\n",
       "<style scoped>\n",
       "    .dataframe tbody tr th:only-of-type {\n",
       "        vertical-align: middle;\n",
       "    }\n",
       "\n",
       "    .dataframe tbody tr th {\n",
       "        vertical-align: top;\n",
       "    }\n",
       "\n",
       "    .dataframe thead th {\n",
       "        text-align: right;\n",
       "    }\n",
       "</style>\n",
       "<table border=\"1\" class=\"dataframe\">\n",
       "  <thead>\n",
       "    <tr style=\"text-align: right;\">\n",
       "      <th></th>\n",
       "      <th>url</th>\n",
       "      <th>anuncio</th>\n",
       "    </tr>\n",
       "  </thead>\n",
       "  <tbody>\n",
       "    <tr>\n",
       "      <th>count</th>\n",
       "      <td>224</td>\n",
       "      <td>224</td>\n",
       "    </tr>\n",
       "    <tr>\n",
       "      <th>unique</th>\n",
       "      <td>224</td>\n",
       "      <td>2</td>\n",
       "    </tr>\n",
       "    <tr>\n",
       "      <th>top</th>\n",
       "      <td>https://www.gregory.com.br/camisa-alongada-ver...</td>\n",
       "      <td>não</td>\n",
       "    </tr>\n",
       "    <tr>\n",
       "      <th>freq</th>\n",
       "      <td>1</td>\n",
       "      <td>115</td>\n",
       "    </tr>\n",
       "  </tbody>\n",
       "</table>\n",
       "</div>"
      ],
      "text/plain": [
       "                                                      url anuncio\n",
       "count                                                 224     224\n",
       "unique                                                224       2\n",
       "top     https://www.gregory.com.br/camisa-alongada-ver...     não\n",
       "freq                                                    1     115"
      ]
     },
     "execution_count": 61,
     "metadata": {},
     "output_type": "execute_result"
    }
   ],
   "source": [
    "data_set.describe()"
   ]
  },
  {
   "cell_type": "code",
   "execution_count": 62,
   "metadata": {
    "scrolled": true
   },
   "outputs": [],
   "source": [
    "# data_set = data_set.drop_duplicates(subset= ['url'],keep='first')\n",
    "# data_set"
   ]
  },
  {
   "cell_type": "code",
   "execution_count": 44,
   "metadata": {
    "scrolled": true
   },
   "outputs": [
    {
     "name": "stdout",
     "output_type": "stream",
     "text": [
      "https://www.riachuelo.com.br/sueter-malha-basica-12043524\n",
      "sim\n"
     ]
    }
   ],
   "source": [
    "# sites = data_set.iloc[:,:]\n",
    "print data_set.url[11]\n",
    "print data_set.anuncio[11]"
   ]
  },
  {
   "cell_type": "code",
   "execution_count": 94,
   "metadata": {},
   "outputs": [],
   "source": [
    "padrao = '((www\\.)?[a-zA-Z0-9]+\\.[a-zA-Z0-9]+(\\.[a-zA-Z0-9]+)*)'\n",
    "for i, site in enumerate(data_set.url):\n",
    "#     teste = \"https://www.riachuelo.com.br/blusawww.riachuelo.com.br-basica-manga-longa-12131067\"\n",
    "    name = str(i) + re.findall(padrao, site)[0][0] + \".html\"\n",
    "    getPage(url=site, name=\"sites/\" + name, codec=\"utf-8\")\n",
    "    print \"finalizou \" + name\n",
    "    \n",
    "#     print i, site, data_set.anuncio[i]\n",
    "# data_set.iloc[:,0][23]"
   ]
  },
  {
   "cell_type": "code",
   "execution_count": 82,
   "metadata": {
    "scrolled": true
   },
   "outputs": [
    {
     "name": "stdout",
     "output_type": "stream",
     "text": [
      "www.riachuelo.com.br\n"
     ]
    }
   ],
   "source": [
    "padrao = '((www\\.)?[a-zA-Z0-9]+\\.[a-zA-Z0-9]+(\\.[a-zA-Z0-9]+)*)'\n",
    "teste = \"https://www.riachuelo.com.br/blusawww.riachuelo.com.br-basica-manga-longa-12131067\"\n",
    "print re.findall(padrao, teste)[0][0]"
   ]
  },
  {
   "cell_type": "code",
   "execution_count": null,
   "metadata": {},
   "outputs": [],
   "source": []
  }
 ],
 "metadata": {
  "kernelspec": {
   "display_name": "Python 2",
   "language": "python",
   "name": "python2"
  },
  "language_info": {
   "codemirror_mode": {
    "name": "ipython",
    "version": 2
   },
   "file_extension": ".py",
   "mimetype": "text/x-python",
   "name": "python",
   "nbconvert_exporter": "python",
   "pygments_lexer": "ipython2",
   "version": "2.7.10"
  }
 },
 "nbformat": 4,
 "nbformat_minor": 2
}
